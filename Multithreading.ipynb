{
 "cells": [
  {
   "cell_type": "markdown",
   "id": "2d21d4cd-19f4-4eab-aff3-a63e23f33cd5",
   "metadata": {},
   "source": [
    "### Installing libraries"
   ]
  },
  {
   "cell_type": "code",
   "execution_count": 1,
   "id": "be330bf5-ac68-4512-bdf1-52109ca8843e",
   "metadata": {},
   "outputs": [],
   "source": [
    "import threading\n",
    "import time\n",
    "import psutil\n",
    "import numpy as np\n"
   ]
  },
  {
   "cell_type": "markdown",
   "id": "b7998a41-7d74-4964-b996-429cce154608",
   "metadata": {},
   "source": [
    "### Constant Matrix"
   ]
  },
  {
   "cell_type": "code",
   "execution_count": 2,
   "id": "edeec480-1cf4-4be6-88f6-a378f0ec0f23",
   "metadata": {},
   "outputs": [
    {
     "name": "stdout",
     "output_type": "stream",
     "text": [
      "[[5 5 5 ... 5 5 5]\n",
      " [5 5 5 ... 5 5 5]\n",
      " [5 5 5 ... 5 5 5]\n",
      " ...\n",
      " [5 5 5 ... 5 5 5]\n",
      " [5 5 5 ... 5 5 5]\n",
      " [5 5 5 ... 5 5 5]]\n"
     ]
    }
   ],
   "source": [
    "constant_matrix = np.full((500, 500), 5)\n",
    "print(constant_matrix)\n",
    "     "
   ]
  },
  {
   "cell_type": "markdown",
   "id": "0e87e0d7-68d4-4d52-9bc6-34cfd9cf5368",
   "metadata": {},
   "source": [
    "### 100 Random Matrices"
   ]
  },
  {
   "cell_type": "code",
   "execution_count": 3,
   "id": "7fd051fa-ab75-479f-bdf6-8ec5723a895c",
   "metadata": {},
   "outputs": [],
   "source": [
    "random_matrices = []\n",
    "for i in range(100):\n",
    "    matrix = np.random.randint(1, 10, size=(500, 500))\n",
    "    random_matrices.append(matrix)\n",
    "     "
   ]
  },
  {
   "cell_type": "markdown",
   "id": "f60bfb6d-49a0-40af-9ae2-680cce70657e",
   "metadata": {},
   "source": [
    "### Matrix Multiplication (Task function)"
   ]
  },
  {
   "cell_type": "code",
   "execution_count": 4,
   "id": "c70a2454-3ddb-4c5a-b178-f942d95f1e2c",
   "metadata": {},
   "outputs": [],
   "source": [
    "def task(const , rand , start_idx, end_idx ):\n",
    "    ans = const\n",
    "    for i in range(start_idx, end_idx):\n",
    "        ans = np.dot(ans, rand[i])\n",
    "    return ans\n"
   ]
  },
  {
   "cell_type": "code",
   "execution_count": 5,
   "id": "4ecedfa2-de2c-416b-9f3d-65f4734e22a1",
   "metadata": {},
   "outputs": [],
   "source": [
    "def cpu_utilization():\n",
    "    return psutil.cpu_percent()"
   ]
  },
  {
   "cell_type": "markdown",
   "id": "ec8c119f-a9b8-4db2-b103-862aa24d6d15",
   "metadata": {},
   "source": [
    "### Multithreading"
   ]
  },
  {
   "cell_type": "code",
   "execution_count": 6,
   "id": "05bac9fa-7327-4d6d-ab89-cbbc67d4915a",
   "metadata": {},
   "outputs": [],
   "source": [
    "def run_threads(num_threads):\n",
    "    activeThreads = threading.activeCount()\n",
    "    threads = []\n",
    "    matrices_per_thread = 100 // num_threads\n",
    "    remaining_matrices = 100 % num_threads\n",
    "\n",
    "    start_idx = 0\n",
    "\n",
    "    \n",
    "    startTime = time.time()  \n",
    "    print(f\"\\nRunning {num_threads} threads...\")\n",
    "\n",
    "    for i in range(num_threads):\n",
    "        end_idx = start_idx + matrices_per_thread\n",
    "        if i < remaining_matrices:\n",
    "            end_idx += 1\n",
    "            \n",
    "        t = threading.Thread(target=task, args=(constant_matrix, random_matrices,start_idx, end_idx))\n",
    "        threads.append(t)\n",
    "        t.start()\n",
    "        start_idx = end_idx\n",
    "\n",
    "    # Compute average CPU utilization\n",
    "    cpu_utilizations = []\n",
    "    for t in threads:\n",
    "        t.join()  # Wait for thread to finish\n",
    "        cpu_utilizations.append(cpu_utilization())\n",
    "        \n",
    "    total_time = time.time() - startTime\n",
    "    avg_cpu_utilization = sum(cpu_utilizations) / len(cpu_utilizations)\n",
    "    print(f\"Average CPU Utilization for {num_threads} threads: {avg_cpu_utilization:.2f}%\")\n",
    "    print(f\"Total Time Taken for {num_threads} threads: {total_time}\")\n",
    "    \n",
    "\n",
    "    return total_time , avg_cpu_utilization\n"
   ]
  },
  {
   "cell_type": "markdown",
   "id": "77f6c42f-8c39-4d1b-b125-f46882595fa8",
   "metadata": {},
   "source": [
    "### Main program"
   ]
  },
  {
   "cell_type": "code",
   "execution_count": 7,
   "id": "26963a28-3de3-4588-adef-2eb87579e911",
   "metadata": {},
   "outputs": [
    {
     "name": "stderr",
     "output_type": "stream",
     "text": [
      "C:\\Users\\tarus\\AppData\\Local\\Temp\\ipykernel_14472\\1019262814.py:2: DeprecationWarning: activeCount() is deprecated, use active_count() instead\n",
      "  activeThreads = threading.activeCount()\n"
     ]
    },
    {
     "name": "stdout",
     "output_type": "stream",
     "text": [
      "\n",
      "Running 1 threads...\n",
      "Average CPU Utilization for 1 threads: 5.80%\n",
      "Total Time Taken for 1 threads: 8.794873476028442\n",
      "\n",
      "Running 2 threads...\n",
      "Average CPU Utilization for 2 threads: 20.05%\n",
      "Total Time Taken for 2 threads: 7.679493188858032\n",
      "\n",
      "Running 3 threads...\n",
      "Average CPU Utilization for 3 threads: 24.67%\n",
      "Total Time Taken for 3 threads: 4.968979358673096\n",
      "\n",
      "Running 4 threads...\n",
      "Average CPU Utilization for 4 threads: 14.93%\n",
      "Total Time Taken for 4 threads: 3.92866849899292\n",
      "\n",
      "Running 5 threads...\n",
      "Average CPU Utilization for 5 threads: 12.96%\n",
      "Total Time Taken for 5 threads: 2.835254430770874\n",
      "\n",
      "Running 6 threads...\n",
      "Average CPU Utilization for 6 threads: 12.00%\n",
      "Total Time Taken for 6 threads: 2.4232680797576904\n",
      "\n",
      "Running 7 threads...\n",
      "Average CPU Utilization for 7 threads: 9.66%\n",
      "Total Time Taken for 7 threads: 2.406794309616089\n",
      "\n",
      "Running 8 threads...\n",
      "Average CPU Utilization for 8 threads: 15.04%\n",
      "Total Time Taken for 8 threads: 2.4989523887634277\n"
     ]
    }
   ],
   "source": [
    "total_time = []\n",
    "avg_cpu_utilizations = []\n",
    "\n",
    "for num_threads in range(1, 9):  # Increase number of threads from 1 to 8\n",
    "    tt , avg = run_threads(num_threads)\n",
    "    total_time.append(tt)\n",
    "    avg_cpu_utilizations.append(avg)\n"
   ]
  },
  {
   "cell_type": "code",
   "execution_count": 8,
   "id": "159fd552-0a5c-4da5-866b-7b8328d0ee71",
   "metadata": {},
   "outputs": [
    {
     "name": "stdout",
     "output_type": "stream",
     "text": [
      "[1, 2, 3, 4, 5, 6, 7, 8]\n"
     ]
    }
   ],
   "source": [
    "num_threads = list(range(1, len(total_time) + 1))\n",
    "print(num_threads)"
   ]
  },
  {
   "cell_type": "markdown",
   "id": "2b084271-598f-46c1-a5fa-ad6d8502eb67",
   "metadata": {},
   "source": [
    "### Output Graph"
   ]
  },
  {
   "cell_type": "code",
   "execution_count": 9,
   "id": "9719f250-db7a-4b9d-a852-c172b05e4875",
   "metadata": {},
   "outputs": [
    {
     "data": {
      "image/png": "[encoded data removed]",
      "text/plain": [
       "<Figure size 640x480 with 1 Axes>"
      ]
     },
     "metadata": {},
     "output_type": "display_data"
    }
   ],
   "source": [
    "import matplotlib.pyplot as plt\n",
    "plt.plot(num_threads, total_time, marker='o')\n",
    "plt.title('Total Time vs Number of Threads')\n",
    "plt.xlabel('Number of Threads')\n",
    "plt.ylabel('Total Time (seconds)')\n",
    "plt.grid(True)\n",
    "plt.show()"
   ]
  },
  {
   "cell_type": "code",
   "execution_count": null,
   "id": "dcfded5d-775e-4701-b9dd-cce908b64a21",
   "metadata": {},
   "outputs": [],
   "source": []
  }
 ],
 "metadata": {
  "kernelspec": {
   "display_name": "Python 3 (ipykernel)",
   "language": "python",
   "name": "python3"
  },
  "language_info": {
   "codemirror_mode": {
    "name": "ipython",
    "version": 3
   },
   "file_extension": ".py",
   "mimetype": "text/x-python",
   "name": "python",
   "nbconvert_exporter": "python",
   "pygments_lexer": "ipython3",
   "version": "3.12.1"
  }
 },
 "nbformat": 4,
 "nbformat_minor": 5
}
